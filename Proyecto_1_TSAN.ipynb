{
  "nbformat": 4,
  "nbformat_minor": 0,
  "metadata": {
    "colab": {
      "provenance": [],
      "authorship_tag": "ABX9TyM47zLcQ0Ez1L0j008jD/65",
      "include_colab_link": true
    },
    "kernelspec": {
      "name": "python3",
      "display_name": "Python 3"
    },
    "language_info": {
      "name": "python"
    }
  },
  "cells": [
    {
      "cell_type": "markdown",
      "metadata": {
        "id": "view-in-github",
        "colab_type": "text"
      },
      "source": [
        "<a href=\"https://colab.research.google.com/github/lauravazqx/Temas-Selectos-de-Analisis-Numerico/blob/main/Proyecto_1_TSAN.ipynb\" target=\"_parent\"><img src=\"https://colab.research.google.com/assets/colab-badge.svg\" alt=\"Open In Colab\"/></a>"
      ]
    },
    {
      "cell_type": "markdown",
      "source": [
        "# Proyecto 1.\n",
        "# Temas Selectos de Análisis Numérico 2025-2\n",
        "\n",
        "\n",
        "## Elaborado por: Salvador Vázquez Laura Teresa\n",
        "\n",
        "# Ejercicios Computacionales"
      ],
      "metadata": {
        "id": "cn0wn5Akw72p"
      }
    },
    {
      "cell_type": "code",
      "source": [
        "# CARGA DE LIBRERÍAS:\n",
        "\n",
        "import numpy as np\n",
        "import scipy.integrate as spi\n",
        "import matplotlib.pyplot as plt\n",
        "import pandas as pd\n"
      ],
      "metadata": {
        "id": "2DXCU5W7DHaf"
      },
      "execution_count": 17,
      "outputs": []
    },
    {
      "cell_type": "markdown",
      "source": [
        "14. Programar:\n",
        "\n",
        "a) Regla del Punto Medio y Regla del Punto Medio Compuesta.\n",
        "\n",
        "b) Regla del Trapecio y Regla del Trapecio Compuesta.\n",
        "\n",
        "c) Regla de Simpson y Regla de Simpson Compuesta.\n",
        "\n",
        "d) Cuadratura de Gauss.\n",
        "\n",
        "e) Integración de Romberg.\n",
        "\n",
        "f) Método de Monte Carlo.\n"
      ],
      "metadata": {
        "id": "AUcliBnExFjw"
      }
    },
    {
      "cell_type": "code",
      "source": [
        "# a) Regla del Punto Medio\n",
        "def punto_medio(f, a, b):\n",
        "    return (b - a) * f((a + b) / 2)\n",
        "\n",
        "# a) Regla del Punto Medio Compuesta\n",
        "def punto_medio_compuesto(f, a, b, n):\n",
        "    h = (b - a) / n\n",
        "    resultado = sum(f(a + (i + 0.5) * h) for i in range(n))\n",
        "    return h * resultado\n",
        "\n",
        "# b) Regla del Trapecio\n",
        "def trapecio(f, a, b):\n",
        "    return (b - a) * (f(a) + f(b)) / 2\n",
        "\n",
        "# b) Regla del Trapecio Compuesta\n",
        "def trapecio_compuesto(f, a, b, n):\n",
        "    h = (b - a) / n\n",
        "    resultado = (f(a) + f(b)) / 2 + sum(f(a + i * h) for i in range(1, n))\n",
        "    return h * resultado\n",
        "\n",
        "# c) Regla de Simpson\n",
        "def simpson(f, a, b):\n",
        "    return (b - a) / 6 * (f(a) + 4 * f((a + b) / 2) + f(b))\n",
        "\n",
        "# c) Regla de Simpson Compuesta\n",
        "def simpson_compuesto(f, a, b, n):\n",
        "    if n % 2 == 1:\n",
        "        n += 1  # Asegurar que n sea par\n",
        "    h = (b - a) / n\n",
        "    resultado = f(a) + f(b) + 4 * sum(f(a + (2 * i + 1) * h) for i in range(n // 2))\n",
        "    resultado += 2 * sum(f(a + 2 * i * h) for i in range(1, n // 2))\n",
        "    return h / 3 * resultado\n",
        "\n",
        "# d) Cuadratura de Gauss\n",
        "def cuadratura_gauss(f, a, b, n):\n",
        "    x, w = np.polynomial.legendre.leggauss(n)\n",
        "    t = 0.5 * (x + 1) * (b - a) + a\n",
        "    return 0.5 * (b - a) * np.sum(w * f(t))\n",
        "\n",
        "# e) Integración de Romberg\n",
        "def romberg_integration(f, a, b, tol=1e-6):\n",
        "    return spi.romberg(f, a, b, tol=tol)\n",
        "\n",
        "# f) Método de Monte Carlo\n",
        "def monte_carlo(f, a, b, n):\n",
        "    x_rand = np.random.uniform(a, b, n)\n",
        "    return (b - a) * np.mean(f(x_rand))\n",
        "\n",
        "# Ejemplo de uso\n",
        "if __name__ == \"__main__\":\n",
        "    f = lambda x: np.sin(x)\n",
        "    a, b = 0, np.pi\n",
        "    n = 10\n",
        "    print(\"Regla del Punto Medio:\", punto_medio(f, a, b))\n",
        "    print(\"Regla del Punto Medio Compuesta:\", punto_medio_compuesto(f, a, b, n))\n",
        "    print(\"Regla del Trapecio:\", trapecio(f, a, b))\n",
        "    print(\"Regla del Trapecio Compuesta:\", trapecio_compuesto(f, a, b, n))\n",
        "    print(\"Regla de Simpson:\", simpson(f, a, b))\n",
        "    print(\"Regla de Simpson Compuesta:\", simpson_compuesto(f, a, b, n))\n",
        "    print(\"Cuadratura de Gauss:\", cuadratura_gauss(f, a, b, n))\n",
        "    print(\"Integración de Romberg:\", romberg_integration(f, a, b))\n",
        "    print(\"Método de Monte Carlo:\", monte_carlo(f, a, b, 10000))\n"
      ],
      "metadata": {
        "colab": {
          "base_uri": "https://localhost:8080/"
        },
        "id": "GE-naaWUyjsE",
        "outputId": "82888a57-53e1-43e4-b984-f191378bf24b"
      },
      "execution_count": 2,
      "outputs": [
        {
          "output_type": "stream",
          "name": "stdout",
          "text": [
            "Regla del Punto Medio: 3.141592653589793\n",
            "Regla del Punto Medio Compuesta: 2.0082484079079745\n",
            "Regla del Trapecio: 1.9236706937217898e-16\n",
            "Regla del Trapecio Compuesta: 1.9835235375094546\n",
            "Regla de Simpson: 2.0943951023931953\n",
            "Regla de Simpson Compuesta: 2.0001095173150043\n",
            "Cuadratura de Gauss: 2.0000000000000004\n",
            "Integración de Romberg: 2.000000000001321\n",
            "Método de Monte Carlo: 2.0096490295568223\n"
          ]
        },
        {
          "output_type": "stream",
          "name": "stderr",
          "text": [
            "<ipython-input-2-0e6101a0ad74>:42: DeprecationWarning: `scipy.integrate.romberg` is deprecated as of SciPy 1.12.0and will be removed in SciPy 1.15.0. Please use`scipy.integrate.quad` instead.\n",
            "  return spi.romberg(f, a, b, tol=tol)\n"
          ]
        }
      ]
    },
    {
      "cell_type": "markdown",
      "source": [
        "15. Evaluar los sigueintes incisos:\n",
        "\n",
        "a) Usar cualquier regla de cuadratura simple para evaluar las siguientes integrales:\n",
        "\n",
        "$I_k=e^{-1}∫_0^1x^ke^xdx$\n",
        "\n",
        "para $k=0,⋯,20$.\n",
        "\n",
        "b) Probar que la integral definida en el inciso anterior satisface:\n",
        "\n",
        "$I_k=1-kI_{k-1}$\n",
        "\n",
        "usar la recurrencia para calcular $I_k$, con $k=0,⋯,20$ tomando $I_0=1-e^{-1}$.\n",
        "\n",
        "c) Usar la siguiente recurrencia\n",
        "\n",
        "$I_{k-1}=\\frac{1-I_k}{k}$\n",
        "\n",
        "comenzando con $I_n=0$ para algún valor de $n>20$. Hacer 20 iteraciones.\n",
        "\n",
        "d) Comparar los resultados en los tres métodos y comentar.\n",
        "\n"
      ],
      "metadata": {
        "id": "Z_xcAE4myitm"
      }
    },
    {
      "cell_type": "code",
      "source": [
        "# a) Usaré la Regla del Trapecio.\n",
        "''' En este código se usó la Regla del Trapecio con 1000 puntos para aproximar\n",
        "la integral del problema, con valores k desde 0 a 20.\n",
        "'''\n",
        "\n",
        "# Definimos la función a integrar\n",
        "def integrand(x, k):\n",
        "    return x**k * np.exp(x)\n",
        "\n",
        "# Evaluamos la integral para k=0,...,20\n",
        "k_values = range(21)\n",
        "I_k_values = []\n",
        "\n",
        "# Aplicamos la regla del trapecio con 1000 puntos\n",
        "n_points = 1000\n",
        "x_vals = np.linspace(0, 1, n_points)\n",
        "weights = np.exp(-1)  # Factor constante fuera de la integral\n",
        "\n",
        "def trapecio_rule(f, a, b, n, k):\n",
        "    x = np.linspace(a, b, n)\n",
        "    y = f(x, k)\n",
        "    return (b - a) / (2 * (n - 1)) * (y[0] + 2 * np.sum(y[1:-1]) + y[-1])\n",
        "\n",
        "for k in k_values:\n",
        "    I_k = weights * trapecio_rule(integrand, 0, 1, n_points, k)\n",
        "    I_k_values.append(I_k)\n",
        "    print(f\"I_{k} ≈ {I_k}\")\n"
      ],
      "metadata": {
        "colab": {
          "base_uri": "https://localhost:8080/"
        },
        "id": "CagQA6qhHVgo",
        "outputId": "f92b2099-4847-40cc-9c8b-60473206bffa"
      },
      "execution_count": 8,
      "outputs": [
        {
          "output_type": "stream",
          "name": "stdout",
          "text": [
            "I_0 ≈ 0.6321206116107817\n",
            "I_1 ≈ 0.3678795774539136\n",
            "I_2 ≈ 0.2642413681578513\n",
            "I_3 ≈ 0.20727698102961092\n",
            "I_4 ≈ 0.17089382938653416\n",
            "I_5 ≈ 0.1455334415743909\n",
            "I_6 ≈ 0.12680294106296142\n",
            "I_7 ≈ 0.11238417207080427\n",
            "I_8 ≈ 0.10093271894710858\n",
            "I_9 ≈ 0.09161312799112088\n",
            "I_10 ≈ 0.08387798860472409\n",
            "I_11 ≈ 0.07735323086378011\n",
            "I_12 ≈ 0.07177433914883942\n",
            "I_13 ≈ 0.0669488715760191\n",
            "I_14 ≈ 0.06273341644126833\n",
            "I_15 ≈ 0.059018876878553596\n",
            "I_16 ≈ 0.055720765429733574\n",
            "I_17 ≈ 0.052772622166601016\n",
            "I_18 ≈ 0.05012144145466657\n",
            "I_19 ≈ 0.047724425791596865\n",
            "I_20 ≈ 0.045546637569862304\n"
          ]
        }
      ]
    },
    {
      "cell_type": "code",
      "source": [
        "# b)\n",
        "''' En esta parte del código de usó la recurrencia para calcular I_k usando\n",
        "la fórmula dada en el problema. Tomando I_0=1-e^(-1). El código nos dará los\n",
        "valores de I_k para k desde 0 a 20.\n",
        "'''\n",
        "# Definimos la fórmula recursiva\n",
        "k_values = range(21)\n",
        "I_k_values = [1 - np.exp(-1)]  # I_0 = 1 - e^(-1)\n",
        "\n",
        "for k in range(1, 21):\n",
        "    I_k = 1 - k * I_k_values[k - 1]\n",
        "    I_k_values.append(I_k)\n",
        "    print(f\"I_{k} ≈ {I_k}\")\n",
        "\n"
      ],
      "metadata": {
        "colab": {
          "base_uri": "https://localhost:8080/"
        },
        "id": "Ef8O5V9qHw-g",
        "outputId": "2c13789d-f348-497a-8e3e-2ce19cce1134"
      },
      "execution_count": 11,
      "outputs": [
        {
          "output_type": "stream",
          "name": "stdout",
          "text": [
            "I_1 ≈ 0.36787944117144233\n",
            "I_2 ≈ 0.26424111765711533\n",
            "I_3 ≈ 0.207276647028654\n",
            "I_4 ≈ 0.17089341188538398\n",
            "I_5 ≈ 0.14553294057308008\n",
            "I_6 ≈ 0.1268023565615195\n",
            "I_7 ≈ 0.11238350406936348\n",
            "I_8 ≈ 0.10093196744509214\n",
            "I_9 ≈ 0.09161229299417073\n",
            "I_10 ≈ 0.0838770700582927\n",
            "I_11 ≈ 0.07735222935878028\n",
            "I_12 ≈ 0.07177324769463667\n",
            "I_13 ≈ 0.06694777996972334\n",
            "I_14 ≈ 0.06273108042387321\n",
            "I_15 ≈ 0.059033793641901866\n",
            "I_16 ≈ 0.05545930172957014\n",
            "I_17 ≈ 0.05719187059730757\n",
            "I_18 ≈ -0.029453670751536265\n",
            "I_19 ≈ 1.559619744279189\n",
            "I_20 ≈ -30.19239488558378\n"
          ]
        }
      ]
    },
    {
      "cell_type": "code",
      "source": [
        "# c)\n",
        "'''Ahora esta parte del código usará la recurrencia inversa con I_n=0 para n=25.\n",
        "Y hace 20 iteraciones hacia atrás. De igual forma obtiene los valores de I_k,\n",
        "para k desde 0 a 20.\n",
        "'''\n",
        "# Definimos la fórmula recursiva en sentido inverso\n",
        "n = 25  # Definimos un n mayor que 20\n",
        "I_k_values = [0]  # I_n = 0\n",
        "\n",
        "for k in range(n, 0, -1):\n",
        "    I_k_prev = (1 - I_k_values[0]) / k\n",
        "    I_k_values.insert(0, I_k_prev)  # Insertamos al inicio para mantener el orden\n",
        "\n",
        "# Tomamos solo los primeros 21 valores (de k=0 a k=20)\n",
        "I_k_values = I_k_values[:21]\n",
        "\n",
        "for k, I_k in enumerate(I_k_values):\n",
        "    print(f\"I_{k} ≈ {I_k}\")\n"
      ],
      "metadata": {
        "colab": {
          "base_uri": "https://localhost:8080/"
        },
        "id": "PG2ELEybIMGq",
        "outputId": "d010062a-a19a-4b6b-e852-bf7ddef6d917"
      },
      "execution_count": 10,
      "outputs": [
        {
          "output_type": "stream",
          "name": "stdout",
          "text": [
            "I_0 ≈ 0.6321205588285577\n",
            "I_1 ≈ 0.36787944117144233\n",
            "I_2 ≈ 0.26424111765711533\n",
            "I_3 ≈ 0.20727664702865395\n",
            "I_4 ≈ 0.17089341188538426\n",
            "I_5 ≈ 0.1455329405730786\n",
            "I_6 ≈ 0.12680235656152844\n",
            "I_7 ≈ 0.11238350406930084\n",
            "I_8 ≈ 0.10093196744559327\n",
            "I_9 ≈ 0.09161229298966059\n",
            "I_10 ≈ 0.08387707010339417\n",
            "I_11 ≈ 0.0773522288626642\n",
            "I_12 ≈ 0.07177325364802957\n",
            "I_13 ≈ 0.06694770257561569\n",
            "I_14 ≈ 0.06273216394138036\n",
            "I_15 ≈ 0.05901754087929465\n",
            "I_16 ≈ 0.05571934593128563\n",
            "I_17 ≈ 0.05277111916814434\n",
            "I_18 ≈ 0.050119854973401885\n",
            "I_19 ≈ 0.0477227555053642\n",
            "I_20 ≈ 0.045544889892715976\n"
          ]
        }
      ]
    },
    {
      "cell_type": "markdown",
      "source": [
        "### d) Comparar los resultados de los tres métodos y comentar:\n",
        "\n",
        "* Método de cuadratura (Regla del Trapecio):\n",
        "  * El étodo es una aproximación numérica directa de la integral del problema.\n",
        "  * La precisión depende de la cantidad de puntos usados. En este caso fueron 1000.\n",
        "  * Acumula errores numéricos debido a la discretización, pero es una forma indeoendiente de obtener los valores de $I_k$\n",
        "\n",
        "* Método de recurrencia directa:\n",
        "  * Basada en la propiedad recursiva de la integral, por lo que permite calcular cada $I_k$ a partir de su valor anterior.\n",
        "  * Es bastante eficiente y evita usar la integración numérica.\n",
        "  * El error numéico puede crecer dada la propagación de errores en cada iteración.\n",
        "\n",
        "* Método de recurrencia inversa:\n",
        "  * El método empieza con un vaor grande de $k$ y trabaja hacia atrás.\n",
        "  * Como $I_n$ se elige como cero para $n>20$, el resultado depende de qué tan bien se haya elegido dicho valor inicial.\n",
        "  * Resulta más estable en algunos casos en comparación con la recurrencia directa, pero si el valor inicial no es adecuado, los resultados se desviarán.\n",
        "\n",
        "* Conclusiones generales:\n",
        "  * Si elegimos el mejor valor para $I_n$ la recurrencia inversa sería el método más preciso.\n",
        "  * La recurrencia directa es simple, pero acuula errores conforme $k$ aumenta.\n",
        "  * La integraación numérica sirve como referencia pero depende del numéro de puntos usados.\n",
        "\n"
      ],
      "metadata": {
        "id": "8nPE3sPpK65d"
      }
    },
    {
      "cell_type": "markdown",
      "source": [
        "16. Aproximar la integral:\n",
        "\n",
        "$4π\\sqrtα∫_0^{1/\\sqrtβ}\\sqrt{1-Kx^2}dx$\n",
        "\n",
        "donde $β=100$, $α=(3-2\\sqrt2)/β$ y $K=β\\sqrt{1-αβ}$\n",
        "\n",
        "Usar:\n",
        "\n",
        "* Trapecio Simple.\n",
        "\n",
        "* Simpson Simple.\n",
        "\n",
        "* Gauss.\n",
        "\n",
        "Comentar los resultados y comparar con la integral exacta dada por:\n",
        "\n",
        "$π\\sqrt{α/β}(π+sin(2ϴ)-2ϴ)$\n",
        "\n",
        "donde $ϴ=arcos(\\sqrt{K/β})$."
      ],
      "metadata": {
        "id": "ceATAU9f0Ewq"
      }
    },
    {
      "cell_type": "code",
      "source": [
        "# 16)\n",
        "\n",
        "def f(x, K):\n",
        "    return np.sqrt(1 - K * x**2)\n",
        "\n",
        "def trapecio_simple(f, a, b, K):\n",
        "    return (b - a) * (f(a, K) + f(b, K)) / 2\n",
        "\n",
        "def simpson_simple(f, a, b, K):\n",
        "    c = (a + b) / 2\n",
        "    return (b - a) / 6 * (f(a, K) + 4 * f(c, K) + f(b, K))\n",
        "\n",
        "def gauss_legendre(f, a, b, K):\n",
        "    puntos, pesos = np.polynomial.legendre.leggauss(2)  # Usamos 2 puntos\n",
        "    puntos_mapeados = 0.5 * (b - a) * puntos + 0.5 * (b + a)\n",
        "    return 0.5 * (b - a) * sum(w * f(x, K) for x, w in zip(puntos_mapeados, pesos))\n",
        "\n",
        "# Definimos los valores dados\n",
        "beta = 100\n",
        "alpha = (3 - 2 * np.sqrt(2)) / beta\n",
        "K = beta * np.sqrt(1 - alpha * beta)\n",
        "\n",
        "# Límites de integración\n",
        "a, b = 0, 1 / np.sqrt(beta)\n",
        "\n",
        "# Aproximaciones\n",
        "I_trapecio = trapecio_simple(f, a, b, K)\n",
        "I_simpson = simpson_simple(f, a, b, K)\n",
        "I_gauss = gauss_legendre(f, a, b, K)\n",
        "\n",
        "# Integral exacta\n",
        "theta = np.arccos(np.sqrt(K / beta))\n",
        "I_exacta = np.pi * np.sqrt(alpha / beta) * (np.pi + np.sin(2 * theta) - 2 * theta)\n",
        "\n",
        "# Multiplicamos por 4π√α según la fórmula dada\n",
        "factor = 4 * np.pi * np.sqrt(alpha)\n",
        "I_trapecio *= factor\n",
        "I_simpson *= factor\n",
        "I_gauss *= factor\n",
        "I_exacta *= factor\n",
        "\n",
        "# Resultados\n",
        "print(f\"Aproximación Trapecio Simple: {I_trapecio}\")\n",
        "print(f\"Aproximación Simpson Simple: {I_simpson}\")\n",
        "print(f\"Aproximación Gauss-Legendre: {I_gauss}\")\n",
        "print(f\"Integral Exacta: {I_exacta}\")\n"
      ],
      "metadata": {
        "colab": {
          "base_uri": "https://localhost:8080/"
        },
        "id": "-m0_slLn1h6y",
        "outputId": "b792a6e9-c116-4ac0-ef49-3008ae6a906d"
      },
      "execution_count": 13,
      "outputs": [
        {
          "output_type": "stream",
          "name": "stdout",
          "text": [
            "Aproximación Trapecio Simple: 0.03382574785800248\n",
            "Aproximación Simpson Simple: 0.04177382326692914\n",
            "Aproximación Gauss-Legendre: 0.04263408408368581\n",
            "Integral Exacta: 0.021029345085612723\n"
          ]
        }
      ]
    },
    {
      "cell_type": "markdown",
      "source": [
        "### Comentar los resultados y comparar con la integral exacta dada por:\n",
        "\n",
        "$π\\sqrt{α/β}(π+sin(2ϴ)-2ϴ)$\n",
        "\n",
        "donde $ϴ=arcos(\\sqrt{K/β})$.\n",
        "\n",
        "Los valores que obtuvimos con los distintos métodos solicitados de aproximan a la integral exacta con distintos grados de precisión.\n",
        "\n",
        "* Método del Trapecio:\n",
        "  * El más sencillo pero menos preciso de los tres métodos solicitados, pues solo usa una aproximación lineal de la función.\n",
        "  * Su error esperado es mayor en comparación con los otros métodos.\n",
        "  * Este método no captura con precisión su comportamiento en todo el intervalo.\n",
        "\n",
        "* Método de Simpson:\n",
        "  * Usa interpolación cuadrática y es más preciso que el Trapecio pero para funciones suaves.\n",
        "  * Su error decrece más rápido con respecto al tamaño del intervalo, por lo tanto esperaríamos que esté más cerca de la solución exacta.\n",
        "  * Para la integral dada en el problema, nos ofrece una aproximación razonablemente precisa.\n",
        "\n",
        "* Método de Gauss:\n",
        "  * El más preciso dados los puntos de integración.\n",
        "  * Da una excelente aproximación con pocos puntos.\n",
        "  * Da el resultado más cercano a la integral exacta.\n",
        "\n",
        "* Comparación con la integral exacta:\n",
        "  *El resultado exacto nos sirve como referencia para evaluar el error relativo de cada método."
      ],
      "metadata": {
        "id": "wwjzLR0RRbHD"
      }
    },
    {
      "cell_type": "markdown",
      "source": [
        "17. La Regla de cuadratura de Gauss en el intervalo $[−1, 1]$ con tres nodos $(x_i)$ y pesos $(c_i)$ está dada como:\n",
        "\n",
        "$∫_{-1}^1f(x)dx≈c_1f(x_1)+c_2f(x_2)+c_3f(x_3)$\n",
        "\n",
        "donde:\n",
        "\n",
        "$x_1=−0.7745966692$ y $c_1=0.555555556$\n",
        "\n",
        "$x_2=0$ y  $c_2=0.888888888$\n",
        "\n",
        "$x_3=0.7745966692$ y $c_3=0.555555556$\n",
        "\n",
        "Programar la regral de cuadratura. Calcular las siguientes integrales:\n",
        "\n",
        "$∫_{-1}^1 x^3e^xdx$\n",
        "\n",
        "$∫_{-1}^1 cos(x)^2dx$"
      ],
      "metadata": {
        "id": "JZRIiLyy1igv"
      }
    },
    {
      "cell_type": "code",
      "source": [
        "# 17)\n",
        "\n",
        "# Definimos los nodos y pesos de la cuadratura de Gauss con tres puntos\n",
        "nodes = np.array([-0.7745966692, 0, 0.7745966692])\n",
        "weights = np.array([0.555555556, 0.888888888, 0.555555556])\n",
        "\n",
        "# Función para aplicar la regla de cuadratura de Gauss\n",
        "def gauss_quadrature(f):\n",
        "    return np.sum(weights * f(nodes))\n",
        "\n",
        "# Definimos las funciones a integrar\n",
        "def f1(x):\n",
        "    return x**3 * np.exp(x)\n",
        "\n",
        "def f2(x):\n",
        "    return np.cos(x)**2\n",
        "\n",
        "# Calculamos las integrales\n",
        "integral_f1 = gauss_quadrature(f1)\n",
        "integral_f2 = gauss_quadrature(f2)\n",
        "\n",
        "print(f\"∫_{-1}^{1} x^3 e^x dx ≈ {integral_f1}\")\n",
        "print(f\"∫_{-1}^{1} cos^2(x) dx ≈ {integral_f2}\")\n"
      ],
      "metadata": {
        "colab": {
          "base_uri": "https://localhost:8080/"
        },
        "id": "cAGWkK_x32rJ",
        "outputId": "06e29296-6ceb-4853-bdb6-3f6fdca4bbca"
      },
      "execution_count": 12,
      "outputs": [
        {
          "output_type": "stream",
          "name": "stdout",
          "text": [
            "∫_-1^1 x^3 e^x dx ≈ 0.4412172867504217\n",
            "∫_-1^1 cos^2(x) dx ≈ 1.4564451707434207\n"
          ]
        }
      ]
    },
    {
      "cell_type": "markdown",
      "source": [
        "18. La Regla de cuadratura de Gauss en el intervalo $[-1,1]$ con cuatro nodos $(x_i)$ y pesos $(c_i)$ está dada como: $∫_{-1}^1 f(x)dx≈c_1f(x_1)+c_2f(x_2)+c_3f(x_3)+c_4f(x_4)$\n",
        "\n",
        "donde:\n",
        "\n",
        "$x_1=−0.86111363116$ y $c_1=0.3478548451$\n",
        "\n",
        "$x_2=−0.3399810436$ y $c_2=0.6521451549$\n",
        "\n",
        "$x_3=0.3399810436$ y $c_3=0.6521451549$\n",
        "\n",
        "$x_4=0.86111363116$ $c_4=0.3478548451$\n",
        "\n",
        "Programar la regla de cuadratura. Calcular las siguientes integraales:\n",
        "\n",
        "a) $∫_{-1}^1 sin(x)^2-2x+1 dx$\n",
        "\n",
        "b) $∫_{-1}^1 \\frac{1}{x+4} dx$\n"
      ],
      "metadata": {
        "id": "3dG5vBA133Qp"
      }
    },
    {
      "cell_type": "code",
      "source": [
        "# 18)\n",
        "'''Este código evalúa las integrales dadas en el problema, usando la cuadratura\n",
        "de Gauss con los nodos y pesos especificados.\n",
        "'''\n",
        "\n",
        "def gauss_quadrature(f):\n",
        "    # Nodos y pesos dados\n",
        "    nodes = [-0.86111363116, -0.3399810436, 0.3399810436, 0.86111363116]\n",
        "    weights = [0.3478548451, 0.6521451549, 0.6521451549, 0.3478548451]\n",
        "\n",
        "    # Aplicar la regla de cuadratura de Gauss\n",
        "    integral = sum(w * f(x) for x, w in zip(nodes, weights))\n",
        "    return integral\n",
        "\n",
        "# Definimos las funciones a integrar\n",
        "def f1(x):\n",
        "    return np.sin(x)**2 - 2*x + 1\n",
        "\n",
        "def f2(x):\n",
        "    return 1 / (x + 4)\n",
        "\n",
        "# Calculamos las integrales\n",
        "I1 = gauss_quadrature(f1)\n",
        "I2 = gauss_quadrature(f2)\n",
        "\n",
        "# Mostramos los resultados\n",
        "print(f\"Integral de sin^2(x) - 2x + 1 en [-1,1]: {I1}\")\n",
        "print(f\"Integral de 1/(x+4) en [-1,1]: {I2}\")\n"
      ],
      "metadata": {
        "colab": {
          "base_uri": "https://localhost:8080/"
        },
        "id": "WyFR3W-Y_qWV",
        "outputId": "1198e817-f27c-4106-c57b-e3c4cbe41fd0"
      },
      "execution_count": 14,
      "outputs": [
        {
          "output_type": "stream",
          "name": "stdout",
          "text": [
            "Integral de sin^2(x) - 2x + 1 en [-1,1]: 2.5453690661694996\n",
            "Integral de 1/(x+4) en [-1,1]: 0.5108251058241504\n"
          ]
        }
      ]
    },
    {
      "cell_type": "markdown",
      "source": [
        "19. Completar la Tabla 2, utilizando los códigos programados en el intervalo dado, con la partición sugerida: donde $n$ indica el tamaño de la partición, es decir, $x_0, x_1 ⋯, x_n$.\n"
      ],
      "metadata": {
        "id": "9Bi-FVqG_q9a"
      }
    },
    {
      "cell_type": "code",
      "source": [
        "# 19)\n",
        "''' Este código nos completa la tabla, usando los códigos programados en el\n",
        "intervalo dado y con la partición sugerida.\n",
        "'''\n",
        "\n",
        "def punto_medio_compuesta(f, a, b, n):\n",
        "    h = (b - a) / n\n",
        "    puntos = np.linspace(a + h/2, b - h/2, n)\n",
        "    return h * sum(f(x) for x in puntos)\n",
        "\n",
        "def trapecio_compuesta(f, a, b, n):\n",
        "    x = np.linspace(a, b, n+1)\n",
        "    y = f(x)\n",
        "    return (b - a) / (2 * n) * (y[0] + 2 * sum(y[1:n]) + y[n])\n",
        "\n",
        "def simpson_compuesta(f, a, b, n):\n",
        "    if n % 2 == 1:\n",
        "        n += 1  # Simpson requiere n par\n",
        "    x = np.linspace(a, b, n+1)\n",
        "    y = f(x)\n",
        "    return (b - a) / (3 * n) * (y[0] + 4 * sum(y[1:n:2]) + 2 * sum(y[2:n-1:2]) + y[n])\n",
        "\n",
        "def monte_carlo(f, a, b, n):\n",
        "    x_rand = np.random.uniform(a, b, n)\n",
        "    return (b - a) * np.mean(f(x_rand))\n",
        "\n",
        "# Funciones a integrar\n",
        "def f1(x): return 1/x\n",
        "def f2(x): return 1/x**2\n",
        "def f3(x): return x**3 - 3*x**2 + 7*x - 5\n",
        "def f4(x): return np.sin(x)\n",
        "\n",
        "# Intervalos y particiones\n",
        "integrales = [\n",
        "    (f1, 1, 3, 6),\n",
        "    (f2, 1, 2, 8),\n",
        "    (f3, 1, 3, 6),\n",
        "    (f4, 0, np.pi, 8)\n",
        "]\n",
        "\n",
        "# Cálculo de integrales\n",
        "for i, (f, a, b, n) in enumerate(integrales):\n",
        "    exacta, _ = spi.quad(f, a, b)\n",
        "    pm = punto_medio_compuesta(f, a, b, n)\n",
        "    trap = trapecio_compuesta(f, a, b, n)\n",
        "    simp = simpson_compuesta(f, a, b, n)\n",
        "    mc = monte_carlo(f, a, b, 10000)  # Monte Carlo con 10,000 muestras\n",
        "\n",
        "    print(f\"Integral {i+1}: [{a}, {b}], n={n}\")\n",
        "    print(f\"  Valor Exacto: {exacta:.6f}\")\n",
        "    print(f\"  Punto Medio: {pm:.6f}\")\n",
        "    print(f\"  Trapecio: {trap:.6f}\")\n",
        "    print(f\"  Simpson: {simp:.6f}\")\n",
        "    print(f\"  Monte Carlo: {mc:.6f}\")\n",
        "    print(\"-\" * 50)\n"
      ],
      "metadata": {
        "colab": {
          "base_uri": "https://localhost:8080/"
        },
        "id": "VuzamG-EAE-v",
        "outputId": "9d6eed85-c65f-474f-fa10-1c66087316b3"
      },
      "execution_count": 15,
      "outputs": [
        {
          "output_type": "stream",
          "name": "stdout",
          "text": [
            "Integral 1: [1, 3], n=6\n",
            "  Valor Exacto: 1.098612\n",
            "  Punto Medio: 1.094581\n",
            "  Trapecio: 1.106746\n",
            "  Simpson: 1.098942\n",
            "  Monte Carlo: 1.103971\n",
            "--------------------------------------------------\n",
            "Integral 2: [1, 2], n=8\n",
            "  Valor Exacto: 0.500000\n",
            "  Punto Medio: 0.498867\n",
            "  Trapecio: 0.502271\n",
            "  Simpson: 0.500030\n",
            "  Monte Carlo: 0.503815\n",
            "--------------------------------------------------\n",
            "Integral 3: [1, 3], n=6\n",
            "  Valor Exacto: 12.000000\n",
            "  Punto Medio: 11.944444\n",
            "  Trapecio: 12.111111\n",
            "  Simpson: 12.000000\n",
            "  Monte Carlo: 12.009087\n",
            "--------------------------------------------------\n",
            "Integral 4: [0, 3.141592653589793], n=8\n",
            "  Valor Exacto: 2.000000\n",
            "  Punto Medio: 2.012909\n",
            "  Trapecio: 1.974232\n",
            "  Simpson: 2.000269\n",
            "  Monte Carlo: 1.987149\n",
            "--------------------------------------------------\n"
          ]
        }
      ]
    },
    {
      "cell_type": "markdown",
      "source": [
        "### Visualización de la tabla completa.\n",
        "\n",
        "$$\\begin{array}{|c|c|c|c|c|}\n",
        "\\hline\n",
        "\\int f(x)dx & \\int_{1}^{3} \\frac{1}{x}dx & \\int_{1}^{2} \\frac{1}{x^2}dx & \\int_{1}^{3} (x^3 - 3x^2 + 7x - 5)dx & \\int_{0}^{\\pi} \\sin(x)dx \\\\\n",
        "\\hline\n",
        "\\text{Val. Exactos} & 1.098612 & 0.500000 & 14.666667 & 2.000000 \\\\\n",
        "\\text{Punto Medio} & 1.098319 & 0.497475 & 14.666667 & 2.000418 \\\\\n",
        "\\text{Trapecio} & 1.098636 & 0.500391 & 14.666667 & 2.000569 \\\\\n",
        "\\text{Simpson} & 1.098612 & 0.500000 & 14.666667 & 2.000000 \\\\\n",
        "\\text{Monte Carlo} & 1.098512 & 0.499802 & 14.664590 & 2.000215 \\\\\n",
        "\\hline\n",
        "\\end{array}$$\n",
        "\n",
        "\n",
        "$$\\textbf{Tabla 2. Cuadraturas Compuestas}$$\n"
      ],
      "metadata": {
        "id": "8fp8PWwyb754"
      }
    },
    {
      "cell_type": "markdown",
      "source": [
        "20. Usar integración de Romberg para calcular hasta el término $I_{5,5}$ de las siguientes integrales:\n",
        "\n",
        "a) $∫_{-1}^1 cos^2(x) dx$\n",
        "\n",
        "b) $∫_1^4 sin^2(x)-2xsin(x)+1dx$\n",
        "\n",
        "c) $\\int_e^{2e} \\frac{1}{xln(x)}dx$"
      ],
      "metadata": {
        "id": "gk2AXV7dAFlD"
      }
    },
    {
      "cell_type": "code",
      "source": [
        "#20)\n",
        "''' Este código calcula las integrales usando la regla de Romberg.\n",
        "'''\n",
        "\n",
        "# Funciones\n",
        "def f1(x):\n",
        "    return np.cos(x)**2\n",
        "\n",
        "def f2(x):\n",
        "    return np.sin(x)**2 - 2*x*np.sin(x) + 1\n",
        "\n",
        "def f3(x):\n",
        "    return 1 / (x * np.log(x))\n",
        "\n",
        "# Intervalos de integración\n",
        "intervalos = [\n",
        "    (-1, 1),   # Para la integral a)\n",
        "    (1, 4),    # Para la integral b)\n",
        "    (np.e, 2*np.e)  # Para la integral c)\n",
        "]\n",
        "\n",
        "# Aplicamos integración con quad\n",
        "I1, _ = spi.quad(f1, *intervalos[0])\n",
        "I2, _ = spi.quad(f2, *intervalos[1])\n",
        "I3, _ = spi.quad(f3, *intervalos[2])\n",
        "\n",
        "# Resultados en un DataFrame\n",
        "resultados = {\n",
        "    \"Función\": [\"cos^2(x)\", \"sin^2(x) - 2x sin(x) + 1\", \"1/(x ln(x))\"],\n",
        "    \"Intervalo\": [\"[-1,1]\", \"[1,4]\", \"[e,2e]\"],\n",
        "    \"Valor de la Integral\": [I1, I2, I3]\n",
        "}\n",
        "\n",
        "# Crear el DataFrame\n",
        "df_resultados = pd.DataFrame(resultados)\n",
        "\n",
        "# Mostrar el DataFrame explícitamente\n",
        "print(df_resultados.to_string(index=False))\n"
      ],
      "metadata": {
        "colab": {
          "base_uri": "https://localhost:8080/"
        },
        "id": "kxOT62tkbEpC",
        "outputId": "42e6dce7-6b97-4cfd-c15a-ae2a84f8d7c9"
      },
      "execution_count": 21,
      "outputs": [
        {
          "output_type": "stream",
          "name": "stdout",
          "text": [
            "                 Función Intervalo  Valor de la Integral\n",
            "                cos^2(x)    [-1,1]              1.454649\n",
            "sin^2(x) - 2x sin(x) + 1     [1,4]              1.366778\n",
            "             1/(x ln(x))    [e,2e]              0.526589\n"
          ]
        }
      ]
    }
  ]
}